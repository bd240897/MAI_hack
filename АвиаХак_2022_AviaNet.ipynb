{
  "cells": [
    {
      "cell_type": "markdown",
      "metadata": {
        "id": "O9XnXwLogV2l"
      },
      "source": [
        "# Библиотеки"
      ]
    },
    {
      "cell_type": "code",
      "execution_count": null,
      "metadata": {
        "id": "fmF7R5ZngU1r"
      },
      "outputs": [],
      "source": [
        "import pandas as pd\n",
        "import numpy as np\n",
        "import seaborn as sns\n",
        "import matplotlib as plt\n",
        "from tqdm import tqdm\n",
        "\n",
        "from sklearn.model_selection import train_test_split\n",
        "from sklearn.metrics import mean_squared_error, mean_absolute_error, r2_score\n",
        "from sklearn.preprocessing import StandardScaler"
      ]
    },
    {
      "cell_type": "code",
      "execution_count": null,
      "metadata": {
        "id": "ujUUb-XtrluZ"
      },
      "outputs": [],
      "source": [
        "!pip install catboost"
      ]
    },
    {
      "cell_type": "code",
      "execution_count": null,
      "metadata": {
        "id": "fccj5i75rgr6"
      },
      "outputs": [],
      "source": [
        "from sklearn.svm import SVR\n",
        "from sklearn.neighbors import KNeighborsRegressor\n",
        "from sklearn.linear_model import Lasso, Ridge, HuberRegressor, ElasticNet, LinearRegression, ARDRegression\n",
        "from sklearn.tree import DecisionTreeRegressor\n",
        "from sklearn.ensemble import RandomForestRegressor\n",
        "from catboost import CatBoostRegressor\n",
        "from xgboost import XGBRegressor"
      ]
    },
    {
      "cell_type": "code",
      "execution_count": null,
      "metadata": {
        "id": "hpiFLneHrhiS"
      },
      "outputs": [],
      "source": [
        "from keras.models import Sequential\n",
        "from keras.layers import Dense\n",
        "from keras.wrappers.scikit_learn import KerasRegressor\n",
        "from keras.optimizers import Adam\n",
        "from keras.callbacks import EarlyStopping, ModelCheckpoint, LearningRateScheduler"
      ]
    },
    {
      "cell_type": "markdown",
      "metadata": {
        "id": "DMiYfph1iGeF"
      },
      "source": [
        "# Функции для обработки"
      ]
    },
    {
      "cell_type": "code",
      "execution_count": null,
      "metadata": {
        "id": "9qj0g9NiiJO-"
      },
      "outputs": [],
      "source": [
        "# Для поиска выбросов будем использовать boxplot, pairplot\n",
        "def get_boxplot(X, columns=None):\n",
        "  if columns is None:\n",
        "    columns = X.columns\n",
        "\n",
        "  for i in columns:\n",
        "    sns.boxplot(x=X[i])\n",
        "    plt.show()\n",
        "  pass  \n",
        "\n",
        "def get_pairplot(X, columns=None):\n",
        "  if columns is None:\n",
        "    columns = X.columns\n",
        "\n",
        "  sns.pairplot(X[columns])\n",
        "  pass\n",
        "\n",
        "def get_hist(X, columns=None, bins='auto'):\n",
        "  if columns is None:\n",
        "    columns = X.columns\n",
        "\n",
        "  for i in columns:\n",
        "    sns.histplot(x=X[i], bins=bins)\n",
        "    plt.grid()\n",
        "    plt.show()\n",
        "  pass\n",
        "\n",
        "def get_heatmap(X, columns=None):\n",
        "  if columns is not None:\n",
        "    X = X[columns]\n",
        "    \n",
        "  sns.heatmap(X.corr(), cmap='coolwarm', annot = True)\n",
        "  pass"
      ]
    },
    {
      "cell_type": "markdown",
      "metadata": {
        "id": "TndXnop2T4jZ"
      },
      "source": [
        "Функция выдает некоторую статистику: по каждому столбцу - количество пропусков, количество уникальных значий, тип данных.\n",
        "\n",
        "Затем для каждого столбца, в котором число уникальных меньше лимита (50) - список уникальных значений"
      ]
    },
    {
      "cell_type": "code",
      "execution_count": null,
      "metadata": {
        "id": "LDOZ9l_nPcqe"
      },
      "outputs": [],
      "source": [
        "# По каждому признаку - число уникальных значений и тип\n",
        "def get_stats(df, unic='all', limit=50):\n",
        "  print('{0:<20} {1:>10} | {2:>10} | {3}\\n'.format('Название колонки', 'Пустых', 'Уникальных', 'Тип данных')+'-'*57)\n",
        "  for col in df.columns:\n",
        "    print(f'{col:<20} {df[col].isnull().sum():>10} | {len(df[col].value_counts()):>10} | {df[col].dtype}')\n",
        "  \n",
        "  for col in df.columns:\n",
        "    if len(df[col].value_counts())<limit+1:\n",
        "      if unic=='object':\n",
        "        if df[col].dtype=='object':\n",
        "          print(f'\\n{col}\\n{\"-\"*57}')\n",
        "          print(f'{df[col].value_counts()}\\n{\"-\"*57}')\n",
        "      else:\n",
        "          print(f'\\n{col}\\n{\"-\"*57}')\n",
        "          print(f'{df[col].value_counts()}\\n{\"-\"*57}')          \n",
        "\n",
        "  pass"
      ]
    },
    {
      "cell_type": "markdown",
      "metadata": {
        "id": "c1a_KxVMgY8a"
      },
      "source": [
        "# Добыча данных"
      ]
    },
    {
      "cell_type": "code",
      "execution_count": null,
      "metadata": {
        "id": "AfBJsxdghVDe"
      },
      "outputs": [],
      "source": [
        "path = '/content/drive/MyDrive/Авиахакатон/'\n",
        "X_train_orig = pd.read_csv(path + \"X_train.csv\")\n",
        "y_train_orig = pd.read_csv(path + \"y_train.csv\")\n",
        "X_test_orig = pd.read_csv(path + \"X_test.csv\")\n",
        "y_test_orig = pd.read_csv(path + \"y_test.csv\")\n",
        "\n",
        "X_valid_orig = pd.read_csv(path + \"X_valid.csv\")"
      ]
    },
    {
      "cell_type": "markdown",
      "metadata": {
        "id": "bENRc6vAkC0g"
      },
      "source": [
        "# Обработка данных"
      ]
    },
    {
      "cell_type": "markdown",
      "metadata": {
        "id": "JfXz3HGYkFFT"
      },
      "source": [
        "## Описательные статистики"
      ]
    },
    {
      "cell_type": "code",
      "execution_count": null,
      "metadata": {
        "colab": {
          "base_uri": "https://localhost:8080/"
        },
        "id": "38cEgWR_kvmT",
        "outputId": "c07cccdb-6cde-4406-ba77-8e7c65030fb1"
      },
      "outputs": [
        {
          "output_type": "stream",
          "name": "stdout",
          "text": [
            "Название колонки         Пустых | Уникальных | Тип данных\n",
            "---------------------------------------------------------\n",
            "flight_datetime               0 |      35772 | object\n",
            "flight_phase                  0 |          2 | object\n",
            "engine_id                     0 |        116 | object\n",
            "BRAT                         73 |       1294 | float64\n",
            "DEGT                      19515 |      27663 | float64\n",
            "DELFN                     37914 |       9194 | float64\n",
            "DELN1                     37914 |       9153 | float64\n",
            "DELVSV                    35910 |         93 | float64\n",
            "DPOIL                     28544 |       2198 | float64\n",
            "EGTC                      19515 |      24780 | float64\n",
            "EGTHDM                    10833 |      36793 | float64\n",
            "EGTHDM_D                  28801 |      18883 | float64\n",
            "GEGTMC                    28591 |      18897 | float64\n",
            "GN2MC                     28591 |      18376 | float64\n",
            "GPCN25                    19515 |      27220 | float64\n",
            "GWFM                      19515 |      28086 | float64\n",
            "PCN12                       282 |      24547 | float64\n",
            "PCN12I                     9538 |       2214 | float64\n",
            "PCN1AR                    37891 |       9304 | float64\n",
            "PCN1BR                    37874 |       8396 | float64\n",
            "PCN1K                       379 |      37301 | float64\n",
            "PCN2C                     19515 |      24616 | float64\n",
            "SLOATL                    10833 |      36590 | float64\n",
            "SLOATL_D                  28801 |      18722 | float64\n",
            "VSVNOM                    35910 |          1 | float64\n",
            "WBE                       34426 |         65 | float64\n",
            "WBI                       19223 |        158 | float64\n",
            "WFMP                      19515 |      24939 | float64\n",
            "ZPCN25_D                    140 |        667 | float64\n",
            "ZT49_D                      140 |       1859 | float64\n",
            "ZTLA_D                    38714 |        130 | float64\n",
            "ZTNAC_D                   35847 |        142 | float64\n",
            "ZWF36_D                    9994 |       5803 | float64\n"
          ]
        }
      ],
      "source": [
        "get_stats(y_train_orig, limit=0)"
      ]
    },
    {
      "cell_type": "code",
      "execution_count": null,
      "metadata": {
        "colab": {
          "base_uri": "https://localhost:8080/"
        },
        "id": "ncp-wsQmjVhA",
        "outputId": "9b50e0b1-4ee4-4916-9eed-ecd535f0a158"
      },
      "outputs": [
        {
          "output_type": "stream",
          "name": "stdout",
          "text": [
            "Название колонки         Пустых | Уникальных | Тип данных\n",
            "---------------------------------------------------------\n",
            "engine_id                     0 |        116 | object\n",
            "aircraft_id                   0 |         58 | object\n",
            "flight_datetime               0 |      35772 | object\n",
            "flight_phase                  0 |          2 | object\n",
            "engine_position               0 |          2 | int64\n",
            "n1_modifier                   0 |          8 | float64\n",
            "number_blades                 0 |          3 | float64\n",
            "engine_family                 0 |          3 | object\n",
            "engine_type                   0 |          5 | object\n",
            "manufacturer                  0 |          2 | object\n",
            "ZHPTAC                    35837 |         49 | float64\n",
            "ZLPTAC                    35837 |         63 | float64\n",
            "ZPCN12                        0 |       2263 | float64\n",
            "ZPCN25                        0 |       1622 | float64\n",
            "ZPHSF                     34458 |        361 | float64\n",
            "ZPHSR                     34458 |        361 | float64\n",
            "ZPN12R                    29412 |       1312 | float64\n",
            "ZPOIL                      9936 |        938 | float64\n",
            "ZPS3                      29413 |       1454 | float64\n",
            "ZT1AB                     29412 |       4747 | float64\n",
            "ZT3                       29413 |       2917 | float64\n",
            "ZT49                          0 |       3948 | float64\n",
            "ZTAMB                     29411 |        958 | float64\n",
            "ZTLA                      29411 |        803 | float64\n",
            "ZTNAC                     35837 |        136 | float64\n",
            "ZTOIL                      9936 |       1204 | float64\n",
            "ZVB1F                         5 |       1078 | float64\n",
            "ZVB1R                     25922 |        462 | float64\n",
            "ZVB2F                     25933 |         72 | float64\n",
            "ZVB2R                      7550 |        663 | float64\n",
            "ZVSV                      17456 |        262 | float64\n",
            "ZWF36                      9920 |       9727 | float64\n",
            "IHPSOV                    29411 |          1 | float64\n",
            "aircraft_family               0 |          3 | object\n",
            "aircraft_type                 0 |          4 | object\n",
            "aircraft_grp                  0 |          9 | object\n",
            "ac_manufacturer               0 |          3 | object\n",
            "AGW                       18383 |       9052 | float64\n",
            "CAS                       25917 |       2233 | float64\n",
            "IAI                       28572 |          2 | float64\n",
            "IVS12                     18383 |          2 | float64\n",
            "SAT                       32788 |       1555 | float64\n",
            "ZALT                          0 |       9122 | float64\n",
            "ZT1A                          0 |       1641 | float64\n",
            "ZVIAS                     29413 |       1022 | float64\n",
            "ZWBP1                     33389 |         55 | float64\n",
            "ZWBP1_8E                  29411 |       3429 | float64\n",
            "ZWBP2                     33389 |         54 | float64\n",
            "ZWBP2_8E                  29411 |       4154 | float64\n",
            "ZXM                           0 |       1364 | float64\n",
            "IBE                           0 |          2 | float64\n",
            "IBP                       14405 |          2 | float64\n",
            "IAIE                      19491 |          2 | float64\n"
          ]
        }
      ],
      "source": [
        "get_stats(X_train_orig, limit=0)"
      ]
    },
    {
      "cell_type": "markdown",
      "metadata": {
        "id": "JTZXUhPekJyH"
      },
      "source": [
        "## Baseline - обработка"
      ]
    },
    {
      "cell_type": "code",
      "execution_count": null,
      "metadata": {
        "colab": {
          "base_uri": "https://localhost:8080/"
        },
        "id": "ynLnQUYNlQrh",
        "outputId": "98a8947f-37fb-4188-adbe-93a5c742d033"
      },
      "outputs": [
        {
          "output_type": "execute_result",
          "data": {
            "text/plain": [
              "(47794, 53)"
            ]
          },
          "metadata": {},
          "execution_count": 6
        }
      ],
      "source": [
        "X_train_orig.shape"
      ]
    },
    {
      "cell_type": "markdown",
      "source": [
        "Список столбцов с пропусками X_train "
      ],
      "metadata": {
        "id": "HaRKoinWNhI5"
      }
    },
    {
      "cell_type": "code",
      "source": [
        "null_columns = ['ZHPTAC', 'ZLPTAC', 'ZPHSF', 'ZPHSR', 'ZPN12R', 'ZPOIL', 'ZPS3', 'ZT1AB', 'ZT3', \n",
        "       'ZTAMB', 'ZTLA', 'ZTNAC', 'ZTOIL', 'ZVB1F', 'ZVB1R', 'ZVB2F', 'ZVB2R',\n",
        "       'ZVSV', 'ZWF36', 'IHPSOV', 'AGW', 'CAS', 'IAI', 'IVS12', 'SAT',\n",
        "       'ZVIAS', 'ZWBP1', 'ZWBP1_8E', 'ZWBP2', 'ZWBP2_8E',\n",
        "       'IBP', 'IAIE']"
      ],
      "metadata": {
        "id": "UCxy1cm_M0u7"
      },
      "execution_count": null,
      "outputs": []
    },
    {
      "cell_type": "code",
      "execution_count": null,
      "metadata": {
        "id": "ZerNk7fpkaz8"
      },
      "outputs": [],
      "source": [
        "def get_value(X, column, mode='mean', value=0):\n",
        "  if mode == 'value':\n",
        "    X.loc[X[X[column].isna()].index ,column] = value\n",
        "  else:\n",
        "    X.loc[X[X[column].isna()].index, column] = X[column].mean()\n",
        "  return X\n",
        "\n",
        "def prepare_X_data(X: pd.DataFrame) -> pd.DataFrame:\n",
        "  X_ref = X.copy()\n",
        "  # удаляем идентификационные поля\n",
        "  X_ref = X_ref.drop(columns=['engine_id', 'aircraft_id', 'flight_datetime'])\n",
        "  # Заполняем пропуски в столбцах средним значением\n",
        "  for col in null_columns:\n",
        "    get_value(X_ref, col)\n",
        "\n",
        "  # Конструирование признаков\n",
        "  Teta = X_ref['ZT1A'] / 288.15\n",
        "  P = X_ref['ZALT'] / 1013.25\n",
        "  # если значения нулевые\n",
        "  Teta[Teta==0] = 0.001\n",
        "  P[P==0] = 10\n",
        "  \n",
        "  X_ref['EGTK'] = (X_ref['ZT49'] + 273.15) / Teta  \n",
        "  X_ref['FFK'] = X_ref['ZWF36'] / (np.sqrt(Teta) * P )\n",
        "  X_ref['N2K'] = X_ref['ZPCN25'] / np.sqrt(Teta) \n",
        "  X_ref['N1K'] = X_ref['ZPCN12'] / np.sqrt(Teta)\n",
        "  X_ref.fillna(0, inplace=True)\n",
        "  # Поскольку мы использовали признаки для конструирования других, исходные надо убрать\n",
        "  #X_ref = X_ref.drop(columns=['ZT1A', 'ZALT', 'ZT49', 'ZWF36', 'ZPCN25', 'ZPCN12'])\n",
        "\n",
        "  #Убираем нечисловые признаки\n",
        "  #cat_features = list(X.columns[X.dtypes == object])\n",
        "  #X_ref = X_ref.drop(columns=cat_features)\n",
        "  \n",
        "\n",
        "  # Категориальные признаки превращаем в фиктивные\n",
        "  X_ref = pd.get_dummies(X_ref, columns=['n1_modifier', 'flight_phase', 'engine_family',\n",
        "                                         'engine_type', 'manufacturer', 'aircraft_family',\n",
        "                                         'aircraft_type', 'aircraft_grp', 'ac_manufacturer'])\n",
        "\n",
        "  return X_ref\n",
        "\n",
        "def prepare_y_data(y: pd.DataFrame) -> pd.DataFrame:\n",
        "  #Убираем нечисловые признаки\n",
        "  cat_features = list(y.columns[y.dtypes == object])\n",
        "  y_ref = y.drop(columns=cat_features)\n",
        "\n",
        "  # Пропуски\n",
        "  #y_ref.fillna(0, inplace=True)\n",
        "  return y_ref"
      ]
    },
    {
      "cell_type": "code",
      "execution_count": null,
      "metadata": {
        "id": "IpB_iuRHqVa4",
        "colab": {
          "base_uri": "https://localhost:8080/"
        },
        "outputId": "bd8ddf7c-627a-4021-b948-4df4ab9bc33e"
      },
      "outputs": [
        {
          "output_type": "stream",
          "name": "stderr",
          "text": [
            "/usr/local/lib/python3.7/dist-packages/pandas/core/arraylike.py:364: RuntimeWarning: invalid value encountered in sqrt\n",
            "  result = getattr(ufunc, method)(*inputs, **kwargs)\n"
          ]
        }
      ],
      "source": [
        "X_train = prepare_X_data(X_train_orig)\n",
        "y_train = prepare_y_data(y_train_orig)\n",
        "\n",
        "X_test = prepare_X_data(X_test_orig)\n",
        "y_test = prepare_y_data(y_test_orig)\n",
        "\n",
        "X_valid = prepare_X_data(X_valid_orig)"
      ]
    },
    {
      "cell_type": "markdown",
      "source": [],
      "metadata": {
        "id": "X6DkXFiZFj__"
      }
    },
    {
      "cell_type": "markdown",
      "metadata": {
        "id": "x6b2uSOTvj3I"
      },
      "source": [
        "# Baseline-**моделирование**"
      ]
    },
    {
      "cell_type": "markdown",
      "metadata": {
        "id": "ov-7IVK-r2OF"
      },
      "source": [
        "Класс"
      ]
    },
    {
      "cell_type": "code",
      "execution_count": null,
      "metadata": {
        "id": "EmgkUdl2yaOZ"
      },
      "outputs": [],
      "source": [
        "class ModelsTraining:\n",
        "\n",
        "  def __init__(self, targets:list, models: dict):\n",
        "    self.sc = StandardScaler()\n",
        "    self.targets = targets\n",
        "    self.models = models\n",
        "    self.predict_data = {}\n",
        "\n",
        "  def fit(self, X, y):\n",
        "    # шкалируем\n",
        "    X_sc = self.sc.fit_transform(X)\n",
        "    self.fit_data = {\n",
        "        target: \n",
        "        {name_model:\n",
        "         self.models[name_model].fit(X_sc, y[target]) if 'neuro' not in name_model \n",
        "         else \n",
        "         self.models[name_model].fit(X_sc, y[target], validation_batch_size=50,\n",
        "                                     validation_split=0.2,\n",
        "                                     epochs=50, verbose=0, callbacks=my_callbacks) \n",
        "         for name_model in self.models\n",
        "         } for target in self.targets\n",
        "                    }\n",
        "\n",
        "\n",
        "  def __get_best_metric__(self, target):\n",
        "    return min(self.errors[target], key=self.errors[target].get)\n",
        "\n",
        "  def get_metric(self, y_test, error: str='mse') -> pd.DataFrame:\n",
        "    if error=='mse':\n",
        "      err = mean_squared_error\n",
        "    elif error=='mae':\n",
        "      err = mean_absolute_error\n",
        "    else:\n",
        "      err = r2_score\n",
        "\n",
        "    self.errors, self.metric, self.best_model = {}, {}, {}\n",
        "    self.metric = {}\n",
        "    for target in self.targets:\n",
        "      self.errors[target] = {name_model: err(y_test[target], value) for name_model,value in self.predict_data[target].items()}\n",
        "      best_model_name = self.__get_best_metric__(target)\n",
        "      self.metric[target] = {'best_model': best_model_name,\n",
        "                             'best_metric': self.errors[target][best_model_name]}\n",
        "      self.best_model[target] = self.models[best_model_name]                      \n",
        "    return pd.DataFrame(self.metric)\n",
        "\n",
        "  def predict_models(self, X_test):\n",
        "    X_sc = self.sc.transform(X_test)\n",
        "    self.predict_data = {target: \n",
        "                         {name_model: \n",
        "                          self.models[name_model].predict(X_sc) for name_model in self.models\n",
        "                          } for target in self.targets\n",
        "                         }\n",
        "    return self.predict_data\n",
        "\n",
        "  def predict(self, X_test) -> pd.DataFrame:\n",
        "    X_sc = self.sc.transform(X_test)\n",
        "    predict = pd.DataFrame([])\n",
        "    for target in self.targets:\n",
        "      best_model_name = self.__get_best_metric__(target)\n",
        "      predict[target] = self.best_model[target].predict(X_sc).flatten()\n",
        "    return predict"
      ]
    },
    {
      "cell_type": "code",
      "execution_count": null,
      "metadata": {
        "id": "W-r2REfMsdIm"
      },
      "outputs": [],
      "source": [
        "def lr_exp_decay(epoch, lr):\n",
        "  if epoch < 2:\n",
        "    lr = 0.001\n",
        "  else:\n",
        "    if epoch % 10 == 0:\n",
        "      lr = lr /2\n",
        "  return lr\n",
        "\n",
        "optimizer = Adam(0.001, decay=1e-6)\n",
        "\n",
        "my_callbacks = [\n",
        "    EarlyStopping(monitor='val_loss', patience=5),\n",
        "    #ModelCheckpoint(monitor='val_loss', save_best_only=True, save_weights_only=True),\n",
        "    LearningRateScheduler(lr_exp_decay, verbose=0)\n",
        "]"
      ]
    },
    {
      "cell_type": "markdown",
      "metadata": {
        "id": "9bfkHrjksiMf"
      },
      "source": [
        "Модели нейросетей"
      ]
    },
    {
      "cell_type": "code",
      "execution_count": null,
      "metadata": {
        "id": "723c_ryksdIn"
      },
      "outputs": [],
      "source": [
        "model = Sequential()\n",
        "model.add(Dense(50, input_dim=X_train.shape[1], kernel_initializer='normal', activation='relu'))\n",
        "model.add(Dense(20, kernel_initializer='normal', activation='relu'))\n",
        "model.add(Dense(1, kernel_initializer='normal'))\n",
        "# Compile model\n",
        "model.compile(loss='mean_squared_error', optimizer=optimizer)\n",
        "\n",
        "model2 = Sequential()\n",
        "model2.add(Dense(20, input_dim=X_train.shape[1], kernel_initializer='normal', activation='relu'))\n",
        "model2.add(Dense(10, kernel_initializer='normal', activation='relu'))\n",
        "model2.add(Dense(1, kernel_initializer='normal'))\n",
        "# Compile model\n",
        "model2.compile(loss='mean_squared_error', optimizer=optimizer)\n",
        "\n",
        "model3 = Sequential()\n",
        "model3.add(Dense(100, input_dim=X_train.shape[1], kernel_initializer='normal', activation='relu'))\n",
        "model3.add(Dense(50, kernel_initializer='normal', activation='relu'))\n",
        "model3.add(Dense(1, kernel_initializer='normal'))\n",
        "# Compile model\n",
        "model3.compile(loss='mean_squared_error', optimizer=optimizer)\n",
        "\n",
        "model4 = Sequential()\n",
        "model4.add(Dense(60, input_dim=X_train.shape[1], kernel_initializer='normal', activation='relu'))\n",
        "model4.add(Dense(30, kernel_initializer='normal', activation='relu'))\n",
        "model4.add(Dense(10, kernel_initializer='normal', activation='relu'))\n",
        "model4.add(Dense(1, kernel_initializer='normal'))\n",
        "# Compile model\n",
        "model4.compile(loss='mean_squared_error', optimizer=optimizer)"
      ]
    },
    {
      "cell_type": "code",
      "execution_count": null,
      "metadata": {
        "id": "SxQJGeFerzfG"
      },
      "outputs": [],
      "source": [
        "# таргеты для предсказаний\n",
        "targets = y_train.columns\n",
        "\n",
        "# Словарь с моделями\n",
        "models = {\n",
        "    #'knn': KNeighborsRegressor(),\n",
        "    #'lasso': Lasso(random_state=66),\n",
        "    #'ridge': Ridge(random_state=66),\n",
        "    #'huber': HuberRegressor(),\n",
        "    #'elastic': ElasticNet(random_state=66),\n",
        "    #'linear': LinearRegression(),\n",
        "    #'ARD': ARDRegression(),\n",
        "    #'tree': DecisionTreeRegressor(random_state=66),\n",
        "    #'random_tree': RandomForestRegressor(verbose=0, random_state=66),\n",
        "    #'catboost': CatBoostRegressor(iterations=50, verbose=0, random_state=66),\n",
        "    #'XGB': XGBRegressor(verbose=0, random_state=66),\n",
        "    #'neuro1': model,\n",
        "    #'neuro2': model2,\n",
        "    #'neuro3': model3,\n",
        "    'neuro4': model4  \n",
        "}"
      ]
    },
    {
      "cell_type": "markdown",
      "source": [
        "Цикл обучения семейства моделей на каждом из таргетов и предикт на лучшей модели"
      ],
      "metadata": {
        "id": "7xZ3z4isxY0f"
      }
    },
    {
      "cell_type": "code",
      "source": [
        "predict, er = pd.DataFrame([]), pd.DataFrame([])\n",
        "\n",
        "for target in tqdm(targets):\n",
        "  # Обучаем только на непустых данных в таргете\n",
        "  y_train_ = y_train[y_train[target].notna()]\n",
        "  X_train_ = X_train[y_train[target].notna()]\n",
        "\n",
        "  y_test_ = y_test[y_test[target].notna()]\n",
        "  X_test_ = X_test[y_test[target].notna()]\n",
        "\n",
        "  # Обучение семейства моделей\n",
        "  mt = ModelsTraining(targets=[target], models=models)\n",
        "  mt.fit(X_train_, y_train_)\n",
        "\n",
        "  # Вычисление метрики для каждой модели из семейства\n",
        "  predicts_models = mt.predict_models(X_test_)\n",
        "  # Лучшая модель и лучшая метрика\n",
        "  er[target] = mt.get_metric(y_test_, error='mse')\n",
        "\n",
        "  # На лучшей модели для таргета делаем предикт для валидационной выборки\n",
        "  predict[target] = mt.predict(X_valid)"
      ],
      "metadata": {
        "colab": {
          "base_uri": "https://localhost:8080/"
        },
        "id": "6Z12veHaxhrv",
        "outputId": "46337e50-9a18-4767-918c-5ce75204daa2"
      },
      "execution_count": null,
      "outputs": [
        {
          "output_type": "stream",
          "name": "stderr",
          "text": [
            "\r  0%|          | 0/30 [00:00<?, ?it/s]"
          ]
        },
        {
          "output_type": "stream",
          "name": "stdout",
          "text": [
            "597/597 [==============================] - 1s 1ms/step\n",
            "897/897 [==============================] - 1s 1ms/step\n"
          ]
        },
        {
          "output_type": "stream",
          "name": "stderr",
          "text": [
            "\r  3%|▎         | 1/30 [00:22<11:06, 22.99s/it]"
          ]
        },
        {
          "output_type": "stream",
          "name": "stdout",
          "text": [
            "353/353 [==============================] - 1s 1ms/step\n",
            "897/897 [==============================] - 1s 1ms/step\n"
          ]
        },
        {
          "output_type": "stream",
          "name": "stderr",
          "text": [
            "\r  7%|▋         | 2/30 [00:59<14:30, 31.09s/it]"
          ]
        },
        {
          "output_type": "stream",
          "name": "stdout",
          "text": [
            "126/126 [==============================] - 0s 1ms/step\n",
            "897/897 [==============================] - 1s 1ms/step\n"
          ]
        },
        {
          "output_type": "stream",
          "name": "stderr",
          "text": [
            "\r 10%|█         | 3/30 [01:25<12:55, 28.73s/it]"
          ]
        },
        {
          "output_type": "stream",
          "name": "stdout",
          "text": [
            "126/126 [==============================] - 0s 1ms/step\n",
            "897/897 [==============================] - 1s 1ms/step\n"
          ]
        },
        {
          "output_type": "stream",
          "name": "stderr",
          "text": [
            "\r 13%|█▎        | 4/30 [01:51<11:57, 27.59s/it]"
          ]
        },
        {
          "output_type": "stream",
          "name": "stdout",
          "text": [
            "149/149 [==============================] - 0s 1ms/step\n",
            "897/897 [==============================] - 1s 1ms/step\n"
          ]
        },
        {
          "output_type": "stream",
          "name": "stderr",
          "text": [
            "\r 17%|█▋        | 5/30 [02:30<13:10, 31.61s/it]"
          ]
        },
        {
          "output_type": "stream",
          "name": "stdout",
          "text": [
            "240/240 [==============================] - 0s 1ms/step\n",
            "897/897 [==============================] - 1s 1ms/step\n"
          ]
        },
        {
          "output_type": "stream",
          "name": "stderr",
          "text": [
            "\r 20%|██        | 6/30 [03:14<14:20, 35.84s/it]"
          ]
        },
        {
          "output_type": "stream",
          "name": "stdout",
          "text": [
            "353/353 [==============================] - 0s 1ms/step\n",
            "897/897 [==============================] - 1s 1ms/step\n"
          ]
        },
        {
          "output_type": "stream",
          "name": "stderr",
          "text": [
            "\r 23%|██▎       | 7/30 [04:39<19:55, 51.97s/it]"
          ]
        },
        {
          "output_type": "stream",
          "name": "stdout",
          "text": [
            "462/462 [==============================] - 1s 1ms/step\n",
            "897/897 [==============================] - 1s 1ms/step\n"
          ]
        },
        {
          "output_type": "stream",
          "name": "stderr",
          "text": [
            "\r 27%|██▋       | 8/30 [07:05<30:01, 81.89s/it]"
          ]
        },
        {
          "output_type": "stream",
          "name": "stdout",
          "text": [
            "238/238 [==============================] - 0s 1ms/step\n",
            "897/897 [==============================] - 1s 1ms/step\n"
          ]
        },
        {
          "output_type": "stream",
          "name": "stderr",
          "text": [
            "\r 30%|███       | 9/30 [08:30<29:00, 82.87s/it]"
          ]
        },
        {
          "output_type": "stream",
          "name": "stdout",
          "text": [
            "240/240 [==============================] - 0s 1ms/step\n",
            "897/897 [==============================] - 1s 1ms/step\n"
          ]
        },
        {
          "output_type": "stream",
          "name": "stderr",
          "text": [
            "\r 33%|███▎      | 10/30 [09:54<27:43, 83.18s/it]"
          ]
        },
        {
          "output_type": "stream",
          "name": "stdout",
          "text": [
            "240/240 [==============================] - 0s 1ms/step\n",
            "897/897 [==============================] - 1s 1ms/step\n"
          ]
        },
        {
          "output_type": "stream",
          "name": "stderr",
          "text": [
            "\r 37%|███▋      | 11/30 [11:19<26:32, 83.82s/it]"
          ]
        },
        {
          "output_type": "stream",
          "name": "stdout",
          "text": [
            "353/353 [==============================] - 0s 1ms/step\n",
            "897/897 [==============================] - 1s 1ms/step\n"
          ]
        },
        {
          "output_type": "stream",
          "name": "stderr",
          "text": [
            "\r 40%|████      | 12/30 [13:44<30:45, 102.52s/it]"
          ]
        },
        {
          "output_type": "stream",
          "name": "stdout",
          "text": [
            "353/353 [==============================] - 0s 1ms/step\n",
            "897/897 [==============================] - 1s 1ms/step\n"
          ]
        },
        {
          "output_type": "stream",
          "name": "stderr",
          "text": [
            "\r 43%|████▎     | 13/30 [16:10<32:42, 115.46s/it]"
          ]
        },
        {
          "output_type": "stream",
          "name": "stdout",
          "text": [
            "594/594 [==============================] - 1s 1ms/step\n",
            "897/897 [==============================] - 1s 1ms/step\n"
          ]
        },
        {
          "output_type": "stream",
          "name": "stderr",
          "text": [
            "\r 47%|████▋     | 14/30 [18:26<32:28, 121.76s/it]"
          ]
        },
        {
          "output_type": "stream",
          "name": "stdout",
          "text": [
            "479/479 [==============================] - 1s 1ms/step\n",
            "897/897 [==============================] - 2s 2ms/step\n"
          ]
        },
        {
          "output_type": "stream",
          "name": "stderr",
          "text": [
            "\r 50%|█████     | 15/30 [19:51<27:42, 110.80s/it]"
          ]
        }
      ]
    },
    {
      "cell_type": "code",
      "execution_count": null,
      "metadata": {
        "colab": {
          "base_uri": "https://localhost:8080/",
          "height": 112
        },
        "id": "o9BooJKLUzQI",
        "outputId": "08c0f1c5-a2c5-4c24-a24c-27c57d49b56f"
      },
      "outputs": [
        {
          "output_type": "execute_result",
          "data": {
            "text/plain": [
              "                 BRAT      DEGT\n",
              "best_metric  0.155212  2.707408\n",
              "best_model     neuro4    neuro3"
            ],
            "text/html": [
              "\n",
              "  <div id=\"df-9c4bb5d3-abd5-463b-ac9a-003646aa7581\">\n",
              "    <div class=\"colab-df-container\">\n",
              "      <div>\n",
              "<style scoped>\n",
              "    .dataframe tbody tr th:only-of-type {\n",
              "        vertical-align: middle;\n",
              "    }\n",
              "\n",
              "    .dataframe tbody tr th {\n",
              "        vertical-align: top;\n",
              "    }\n",
              "\n",
              "    .dataframe thead th {\n",
              "        text-align: right;\n",
              "    }\n",
              "</style>\n",
              "<table border=\"1\" class=\"dataframe\">\n",
              "  <thead>\n",
              "    <tr style=\"text-align: right;\">\n",
              "      <th></th>\n",
              "      <th>BRAT</th>\n",
              "      <th>DEGT</th>\n",
              "    </tr>\n",
              "  </thead>\n",
              "  <tbody>\n",
              "    <tr>\n",
              "      <th>best_metric</th>\n",
              "      <td>0.155212</td>\n",
              "      <td>2.707408</td>\n",
              "    </tr>\n",
              "    <tr>\n",
              "      <th>best_model</th>\n",
              "      <td>neuro4</td>\n",
              "      <td>neuro3</td>\n",
              "    </tr>\n",
              "  </tbody>\n",
              "</table>\n",
              "</div>\n",
              "      <button class=\"colab-df-convert\" onclick=\"convertToInteractive('df-9c4bb5d3-abd5-463b-ac9a-003646aa7581')\"\n",
              "              title=\"Convert this dataframe to an interactive table.\"\n",
              "              style=\"display:none;\">\n",
              "        \n",
              "  <svg xmlns=\"http://www.w3.org/2000/svg\" height=\"24px\"viewBox=\"0 0 24 24\"\n",
              "       width=\"24px\">\n",
              "    <path d=\"M0 0h24v24H0V0z\" fill=\"none\"/>\n",
              "    <path d=\"M18.56 5.44l.94 2.06.94-2.06 2.06-.94-2.06-.94-.94-2.06-.94 2.06-2.06.94zm-11 1L8.5 8.5l.94-2.06 2.06-.94-2.06-.94L8.5 2.5l-.94 2.06-2.06.94zm10 10l.94 2.06.94-2.06 2.06-.94-2.06-.94-.94-2.06-.94 2.06-2.06.94z\"/><path d=\"M17.41 7.96l-1.37-1.37c-.4-.4-.92-.59-1.43-.59-.52 0-1.04.2-1.43.59L10.3 9.45l-7.72 7.72c-.78.78-.78 2.05 0 2.83L4 21.41c.39.39.9.59 1.41.59.51 0 1.02-.2 1.41-.59l7.78-7.78 2.81-2.81c.8-.78.8-2.07 0-2.86zM5.41 20L4 18.59l7.72-7.72 1.47 1.35L5.41 20z\"/>\n",
              "  </svg>\n",
              "      </button>\n",
              "      \n",
              "  <style>\n",
              "    .colab-df-container {\n",
              "      display:flex;\n",
              "      flex-wrap:wrap;\n",
              "      gap: 12px;\n",
              "    }\n",
              "\n",
              "    .colab-df-convert {\n",
              "      background-color: #E8F0FE;\n",
              "      border: none;\n",
              "      border-radius: 50%;\n",
              "      cursor: pointer;\n",
              "      display: none;\n",
              "      fill: #1967D2;\n",
              "      height: 32px;\n",
              "      padding: 0 0 0 0;\n",
              "      width: 32px;\n",
              "    }\n",
              "\n",
              "    .colab-df-convert:hover {\n",
              "      background-color: #E2EBFA;\n",
              "      box-shadow: 0px 1px 2px rgba(60, 64, 67, 0.3), 0px 1px 3px 1px rgba(60, 64, 67, 0.15);\n",
              "      fill: #174EA6;\n",
              "    }\n",
              "\n",
              "    [theme=dark] .colab-df-convert {\n",
              "      background-color: #3B4455;\n",
              "      fill: #D2E3FC;\n",
              "    }\n",
              "\n",
              "    [theme=dark] .colab-df-convert:hover {\n",
              "      background-color: #434B5C;\n",
              "      box-shadow: 0px 1px 3px 1px rgba(0, 0, 0, 0.15);\n",
              "      filter: drop-shadow(0px 1px 2px rgba(0, 0, 0, 0.3));\n",
              "      fill: #FFFFFF;\n",
              "    }\n",
              "  </style>\n",
              "\n",
              "      <script>\n",
              "        const buttonEl =\n",
              "          document.querySelector('#df-9c4bb5d3-abd5-463b-ac9a-003646aa7581 button.colab-df-convert');\n",
              "        buttonEl.style.display =\n",
              "          google.colab.kernel.accessAllowed ? 'block' : 'none';\n",
              "\n",
              "        async function convertToInteractive(key) {\n",
              "          const element = document.querySelector('#df-9c4bb5d3-abd5-463b-ac9a-003646aa7581');\n",
              "          const dataTable =\n",
              "            await google.colab.kernel.invokeFunction('convertToInteractive',\n",
              "                                                     [key], {});\n",
              "          if (!dataTable) return;\n",
              "\n",
              "          const docLinkHtml = 'Like what you see? Visit the ' +\n",
              "            '<a target=\"_blank\" href=https://colab.research.google.com/notebooks/data_table.ipynb>data table notebook</a>'\n",
              "            + ' to learn more about interactive tables.';\n",
              "          element.innerHTML = '';\n",
              "          dataTable['output_type'] = 'display_data';\n",
              "          await google.colab.output.renderOutput(dataTable, element);\n",
              "          const docLink = document.createElement('div');\n",
              "          docLink.innerHTML = docLinkHtml;\n",
              "          element.appendChild(docLink);\n",
              "        }\n",
              "      </script>\n",
              "    </div>\n",
              "  </div>\n",
              "  "
            ]
          },
          "metadata": {},
          "execution_count": 176
        }
      ],
      "source": [
        "er"
      ]
    },
    {
      "cell_type": "code",
      "execution_count": null,
      "metadata": {
        "colab": {
          "base_uri": "https://localhost:8080/",
          "height": 424
        },
        "id": "F12_N4LmT0WT",
        "outputId": "93886ec0-4bed-4b24-8661-6dc1e581f585"
      },
      "outputs": [
        {
          "output_type": "execute_result",
          "data": {
            "text/plain": [
              "           BRAT        DEGT\n",
              "0      1.166223  739.899170\n",
              "1      1.112320  357.348724\n",
              "2      1.026718  -27.389238\n",
              "3      1.225899   10.943503\n",
              "4      0.955453  -34.328930\n",
              "...         ...         ...\n",
              "28671  0.972078  -36.805759\n",
              "28672  1.142450  148.364182\n",
              "28673  1.288878  297.488159\n",
              "28674  0.942643  231.179260\n",
              "28675  1.130581   92.946869\n",
              "\n",
              "[28676 rows x 2 columns]"
            ],
            "text/html": [
              "\n",
              "  <div id=\"df-9eff2d13-fc67-4937-888a-33c7bb07c0cd\">\n",
              "    <div class=\"colab-df-container\">\n",
              "      <div>\n",
              "<style scoped>\n",
              "    .dataframe tbody tr th:only-of-type {\n",
              "        vertical-align: middle;\n",
              "    }\n",
              "\n",
              "    .dataframe tbody tr th {\n",
              "        vertical-align: top;\n",
              "    }\n",
              "\n",
              "    .dataframe thead th {\n",
              "        text-align: right;\n",
              "    }\n",
              "</style>\n",
              "<table border=\"1\" class=\"dataframe\">\n",
              "  <thead>\n",
              "    <tr style=\"text-align: right;\">\n",
              "      <th></th>\n",
              "      <th>BRAT</th>\n",
              "      <th>DEGT</th>\n",
              "    </tr>\n",
              "  </thead>\n",
              "  <tbody>\n",
              "    <tr>\n",
              "      <th>0</th>\n",
              "      <td>1.166223</td>\n",
              "      <td>739.899170</td>\n",
              "    </tr>\n",
              "    <tr>\n",
              "      <th>1</th>\n",
              "      <td>1.112320</td>\n",
              "      <td>357.348724</td>\n",
              "    </tr>\n",
              "    <tr>\n",
              "      <th>2</th>\n",
              "      <td>1.026718</td>\n",
              "      <td>-27.389238</td>\n",
              "    </tr>\n",
              "    <tr>\n",
              "      <th>3</th>\n",
              "      <td>1.225899</td>\n",
              "      <td>10.943503</td>\n",
              "    </tr>\n",
              "    <tr>\n",
              "      <th>4</th>\n",
              "      <td>0.955453</td>\n",
              "      <td>-34.328930</td>\n",
              "    </tr>\n",
              "    <tr>\n",
              "      <th>...</th>\n",
              "      <td>...</td>\n",
              "      <td>...</td>\n",
              "    </tr>\n",
              "    <tr>\n",
              "      <th>28671</th>\n",
              "      <td>0.972078</td>\n",
              "      <td>-36.805759</td>\n",
              "    </tr>\n",
              "    <tr>\n",
              "      <th>28672</th>\n",
              "      <td>1.142450</td>\n",
              "      <td>148.364182</td>\n",
              "    </tr>\n",
              "    <tr>\n",
              "      <th>28673</th>\n",
              "      <td>1.288878</td>\n",
              "      <td>297.488159</td>\n",
              "    </tr>\n",
              "    <tr>\n",
              "      <th>28674</th>\n",
              "      <td>0.942643</td>\n",
              "      <td>231.179260</td>\n",
              "    </tr>\n",
              "    <tr>\n",
              "      <th>28675</th>\n",
              "      <td>1.130581</td>\n",
              "      <td>92.946869</td>\n",
              "    </tr>\n",
              "  </tbody>\n",
              "</table>\n",
              "<p>28676 rows × 2 columns</p>\n",
              "</div>\n",
              "      <button class=\"colab-df-convert\" onclick=\"convertToInteractive('df-9eff2d13-fc67-4937-888a-33c7bb07c0cd')\"\n",
              "              title=\"Convert this dataframe to an interactive table.\"\n",
              "              style=\"display:none;\">\n",
              "        \n",
              "  <svg xmlns=\"http://www.w3.org/2000/svg\" height=\"24px\"viewBox=\"0 0 24 24\"\n",
              "       width=\"24px\">\n",
              "    <path d=\"M0 0h24v24H0V0z\" fill=\"none\"/>\n",
              "    <path d=\"M18.56 5.44l.94 2.06.94-2.06 2.06-.94-2.06-.94-.94-2.06-.94 2.06-2.06.94zm-11 1L8.5 8.5l.94-2.06 2.06-.94-2.06-.94L8.5 2.5l-.94 2.06-2.06.94zm10 10l.94 2.06.94-2.06 2.06-.94-2.06-.94-.94-2.06-.94 2.06-2.06.94z\"/><path d=\"M17.41 7.96l-1.37-1.37c-.4-.4-.92-.59-1.43-.59-.52 0-1.04.2-1.43.59L10.3 9.45l-7.72 7.72c-.78.78-.78 2.05 0 2.83L4 21.41c.39.39.9.59 1.41.59.51 0 1.02-.2 1.41-.59l7.78-7.78 2.81-2.81c.8-.78.8-2.07 0-2.86zM5.41 20L4 18.59l7.72-7.72 1.47 1.35L5.41 20z\"/>\n",
              "  </svg>\n",
              "      </button>\n",
              "      \n",
              "  <style>\n",
              "    .colab-df-container {\n",
              "      display:flex;\n",
              "      flex-wrap:wrap;\n",
              "      gap: 12px;\n",
              "    }\n",
              "\n",
              "    .colab-df-convert {\n",
              "      background-color: #E8F0FE;\n",
              "      border: none;\n",
              "      border-radius: 50%;\n",
              "      cursor: pointer;\n",
              "      display: none;\n",
              "      fill: #1967D2;\n",
              "      height: 32px;\n",
              "      padding: 0 0 0 0;\n",
              "      width: 32px;\n",
              "    }\n",
              "\n",
              "    .colab-df-convert:hover {\n",
              "      background-color: #E2EBFA;\n",
              "      box-shadow: 0px 1px 2px rgba(60, 64, 67, 0.3), 0px 1px 3px 1px rgba(60, 64, 67, 0.15);\n",
              "      fill: #174EA6;\n",
              "    }\n",
              "\n",
              "    [theme=dark] .colab-df-convert {\n",
              "      background-color: #3B4455;\n",
              "      fill: #D2E3FC;\n",
              "    }\n",
              "\n",
              "    [theme=dark] .colab-df-convert:hover {\n",
              "      background-color: #434B5C;\n",
              "      box-shadow: 0px 1px 3px 1px rgba(0, 0, 0, 0.15);\n",
              "      filter: drop-shadow(0px 1px 2px rgba(0, 0, 0, 0.3));\n",
              "      fill: #FFFFFF;\n",
              "    }\n",
              "  </style>\n",
              "\n",
              "      <script>\n",
              "        const buttonEl =\n",
              "          document.querySelector('#df-9eff2d13-fc67-4937-888a-33c7bb07c0cd button.colab-df-convert');\n",
              "        buttonEl.style.display =\n",
              "          google.colab.kernel.accessAllowed ? 'block' : 'none';\n",
              "\n",
              "        async function convertToInteractive(key) {\n",
              "          const element = document.querySelector('#df-9eff2d13-fc67-4937-888a-33c7bb07c0cd');\n",
              "          const dataTable =\n",
              "            await google.colab.kernel.invokeFunction('convertToInteractive',\n",
              "                                                     [key], {});\n",
              "          if (!dataTable) return;\n",
              "\n",
              "          const docLinkHtml = 'Like what you see? Visit the ' +\n",
              "            '<a target=\"_blank\" href=https://colab.research.google.com/notebooks/data_table.ipynb>data table notebook</a>'\n",
              "            + ' to learn more about interactive tables.';\n",
              "          element.innerHTML = '';\n",
              "          dataTable['output_type'] = 'display_data';\n",
              "          await google.colab.output.renderOutput(dataTable, element);\n",
              "          const docLink = document.createElement('div');\n",
              "          docLink.innerHTML = docLinkHtml;\n",
              "          element.appendChild(docLink);\n",
              "        }\n",
              "      </script>\n",
              "    </div>\n",
              "  </div>\n",
              "  "
            ]
          },
          "metadata": {},
          "execution_count": 177
        }
      ],
      "source": [
        "predict"
      ]
    }
  ],
  "metadata": {
    "colab": {
      "collapsed_sections": [
        "DMiYfph1iGeF"
      ],
      "toc_visible": true,
      "provenance": []
    },
    "kernelspec": {
      "display_name": "Python 3",
      "name": "python3"
    },
    "language_info": {
      "name": "python"
    },
    "accelerator": "GPU"
  },
  "nbformat": 4,
  "nbformat_minor": 0
}